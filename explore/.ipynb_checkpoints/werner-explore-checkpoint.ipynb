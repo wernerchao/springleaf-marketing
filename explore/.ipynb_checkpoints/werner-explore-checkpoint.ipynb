{
 "cells": [
  {
   "cell_type": "code",
   "execution_count": 1,
   "metadata": {
    "collapsed": true
   },
   "outputs": [],
   "source": [
    "import numpy as np\n",
    "import pandas as pd"
   ]
  },
  {
   "cell_type": "code",
   "execution_count": 2,
   "metadata": {
    "collapsed": false
   },
   "outputs": [
    {
     "name": "stderr",
     "output_type": "stream",
     "text": [
      "/Library/Python/2.7/site-packages/IPython/core/interactiveshell.py:2717: DtypeWarning: Columns (8,9,10,11,12,43,157,196,214,225,228,229,231,235,238) have mixed types. Specify dtype option on import or set low_memory=False.\n",
      "  interactivity=interactivity, compiler=compiler, result=result)\n"
     ]
    }
   ],
   "source": [
    "train = pd.read_csv('../data/train.csv')\n",
    "# Drop column with mostly empty values.\n",
    "train = train.drop(['VAR_0207', 'VAR_0213', 'VAR_0840', 'VAR_0205', 'VAR_0206', 'VAR_0209', 'VAR_0208'], 1)\n",
    "# Drop date columns for now...\n",
    "train = train.drop(['VAR_0073', 'VAR_0075', 'VAR_0156', 'VAR_0157', 'VAR_0158', \\\n",
    "                    'VAR_0159', 'VAR_0166', 'VAR_0167', 'VAR_0168', 'VAR_0169', \\\n",
    "                    'VAR_0176', 'VAR_0177', 'VAR_0178', 'VAR_0179', 'VAR_0204', 'VAR_0217'], 1)\n",
    "# Drop ID and target column for now...\n",
    "train = train.drop(['ID', 'target'], 1)\n",
    "# feature = [x for x in train.columns if x not in ['ID', 'target']]"
   ]
  },
  {
   "cell_type": "code",
   "execution_count": 3,
   "metadata": {
    "collapsed": false
   },
   "outputs": [
    {
     "name": "stdout",
     "output_type": "stream",
     "text": [
      "<class 'pandas.core.frame.DataFrame'>\n",
      "RangeIndex: 145231 entries, 0 to 145230\n",
      "Columns: 1909 entries, VAR_0001 to VAR_1934\n",
      "dtypes: float64(470), int64(1404), object(35)\n",
      "memory usage: 2.1+ GB\n",
      "None\n"
     ]
    }
   ],
   "source": [
    "print train.info()"
   ]
  },
  {
   "cell_type": "code",
   "execution_count": 47,
   "metadata": {
    "collapsed": false
   },
   "outputs": [
    {
     "name": "stdout",
     "output_type": "stream",
     "text": [
      "470 35\n",
      "1404\n"
     ]
    }
   ],
   "source": [
    "num_feat = train.dtypes[train.dtypes == 'float64'].index.values.tolist()\n",
    "cat_feat = train.dtypes[train.dtypes == 'object'].index.values.tolist()\n",
    "int_feat = train.dtypes[train.dtypes == 'int64'].index.values.tolist()\n",
    "print len(num_feat), len(cat_feat)\n",
    "print len(int_feat)"
   ]
  },
  {
   "cell_type": "code",
   "execution_count": 48,
   "metadata": {
    "collapsed": false
   },
   "outputs": [
    {
     "name": "stdout",
     "output_type": "stream",
     "text": [
      "995\n",
      "409\n"
     ]
    }
   ],
   "source": [
    "# Split the data into categorical & numerical features\n",
    "numerical = []\n",
    "categorical = []\n",
    "for col_name in int_feat:\n",
    "    if len(train[col_name].unique()) > 20: # If > 20 then it's probably a numerical feature\n",
    "        numerical.append(col_name)\n",
    "    else:                                  # Else then probably categorical feature\n",
    "        categorical.append(col_name)\n",
    "\n",
    "print len(numerical) # 995 continuous features in int64\n",
    "print len(categorical)  # 409 categorical features in int64"
   ]
  },
  {
   "cell_type": "code",
   "execution_count": null,
   "metadata": {
    "collapsed": true
   },
   "outputs": [],
   "source": []
  }
 ],
 "metadata": {
  "kernelspec": {
   "display_name": "Python 2",
   "language": "python",
   "name": "python2"
  },
  "language_info": {
   "codemirror_mode": {
    "name": "ipython",
    "version": 2
   },
   "file_extension": ".py",
   "mimetype": "text/x-python",
   "name": "python",
   "nbconvert_exporter": "python",
   "pygments_lexer": "ipython2",
   "version": "2.7.10"
  }
 },
 "nbformat": 4,
 "nbformat_minor": 2
}
