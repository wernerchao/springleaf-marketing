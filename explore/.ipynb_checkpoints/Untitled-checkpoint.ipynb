{
 "cells": [
  {
   "cell_type": "code",
   "execution_count": 1,
   "metadata": {
    "collapsed": true
   },
   "outputs": [],
   "source": [
    "import numpy as np\n",
    "import pandas as pd"
   ]
  },
  {
   "cell_type": "code",
   "execution_count": 2,
   "metadata": {
    "collapsed": false
   },
   "outputs": [
    {
     "name": "stderr",
     "output_type": "stream",
     "text": [
      "/Library/Python/2.7/site-packages/IPython/core/interactiveshell.py:2717: DtypeWarning: Columns (8,9,10,11,12,43,157,196,214,225,228,229,231,235,238) have mixed types. Specify dtype option on import or set low_memory=False.\n",
      "  interactivity=interactivity, compiler=compiler, result=result)\n"
     ]
    }
   ],
   "source": [
    "train = pd.read_csv('../../data/train.csv')\n",
    "# Drop column with mostly empty values.\n",
    "train = train.drop(['VAR_0205', 'VAR_0206', 'VAR_0207', 'VAR_0208', 'VAR_0209', 'VAR_0213', 'VAR_0840'], 1)\n",
    "# Drop date columns for now...\n",
    "train = train.drop(['VAR_0073', 'VAR_0075', 'VAR_0156', 'VAR_0157', 'VAR_0158', \\\n",
    "                    'VAR_0159', 'VAR_0166', 'VAR_0167', 'VAR_0168', 'VAR_0169', \\\n",
    "                    'VAR_0176', 'VAR_0177', 'VAR_0178', 'VAR_0179', 'VAR_0204', 'VAR_0217'], 1)\n",
    "# Drop ID and target column for now...\n",
    "target = train['target']\n",
    "train = train.drop(['ID', 'target'], 1)\n",
    "# feature = [x for x in train.columns if x not in ['ID', 'target']]"
   ]
  },
  {
   "cell_type": "code",
   "execution_count": 3,
   "metadata": {
    "collapsed": false
   },
   "outputs": [
    {
     "name": "stdout",
     "output_type": "stream",
     "text": [
      "<class 'pandas.core.frame.DataFrame'>\n",
      "RangeIndex: 145231 entries, 0 to 145230\n",
      "Columns: 1404 entries, VAR_0002 to VAR_1933\n",
      "dtypes: int64(1404)\n",
      "memory usage: 1.5 GB\n",
      "None\n",
      "\n",
      "<class 'pandas.core.frame.DataFrame'>\n",
      "RangeIndex: 145231 entries, 0 to 145230\n",
      "Columns: 995 entries, VAR_0002 to VAR_1933\n",
      "dtypes: int64(995)\n",
      "memory usage: 1.1 GB\n",
      "None\n",
      "\n",
      "<class 'pandas.core.frame.DataFrame'>\n",
      "RangeIndex: 145231 entries, 0 to 145230\n",
      "Columns: 409 entries, VAR_0532 to VAR_1931\n",
      "dtypes: int64(409)\n",
      "memory usage: 453.2 MB\n",
      "None\n"
     ]
    }
   ],
   "source": [
    "# If 'int64' > 20 unique values then it's probably a numerical feature\n",
    "criteria = train.dtypes == 'int64'\n",
    "int_train = train[criteria.index[criteria]]\n",
    "criteria_num = int_train.apply(lambda x: len(x.unique()) > 20)\n",
    "criteria_cat = int_train.apply(lambda x: len(x.unique()) <= 20)\n",
    "\n",
    "# Making numeric/categorical dataframes from int64\n",
    "int_num_train = int_train[criteria_num.index[criteria_num]]\n",
    "int_cat_train = int_train[criteria_cat.index[criteria_cat]]\n",
    "print int_train.info()\n",
    "print '\\n', int_num_train.info()\n",
    "print '\\n', int_cat_train.info()"
   ]
  },
  {
   "cell_type": "code",
   "execution_count": 4,
   "metadata": {
    "collapsed": false
   },
   "outputs": [
    {
     "name": "stdout",
     "output_type": "stream",
     "text": [
      "(145231, 470)\n",
      "(145231, 1465)\n"
     ]
    }
   ],
   "source": [
    "# %%timeit\n",
    "# numeric_features = train._get_numeric_data()\n",
    "criteria = train.dtypes == 'float64'\n",
    "num_train = train[criteria.index[criteria]]\n",
    "print 'Before concatenating df: ', num_train.shape\n",
    "num_train = pd.concat([num_train, int_num_train], axis=1)\n",
    "print 'After concatenating df: ', num_train.shape\n",
    "filled_mean = numericFeatures.fillna(numeric_features.mean())\n",
    "# More efficient way to fill in missing values with mean() for numeric features"
   ]
  },
  {
   "cell_type": "code",
   "execution_count": 39,
   "metadata": {
    "collapsed": false
   },
   "outputs": [
    {
     "name": "stdout",
     "output_type": "stream",
     "text": [
      "634179\n",
      "0\n"
     ]
    }
   ],
   "source": [
    "print numericFeatures.isnull().values.sum()\n",
    "print filledMean.isnull().values.sum()"
   ]
  },
  {
   "cell_type": "code",
   "execution_count": 40,
   "metadata": {
    "collapsed": false
   },
   "outputs": [
    {
     "name": "stdout",
     "output_type": "stream",
     "text": [
      "1 loop, best of 3: 695 ms per loop\n"
     ]
    }
   ],
   "source": [
    "# %%timeit\n",
    "criteria = train.dtypes == 'object'\n",
    "cat_train = train[criteria.index[criteria]]\n",
    "print 'Before concatenating df: ', cat_train.shape\n",
    "cat_train = pd.concat([cat_train, cat_num_train], axis=1)\n",
    "print 'After concatenating df: ', cat_train.shape\n",
    "filled_cat_train = cat_train.apply(lambda x:x.fillna(x.value_counts().index[0]))\n",
    "# More efficient way to fill in missing values with most frequent value for categorical features"
   ]
  },
  {
   "cell_type": "code",
   "execution_count": 41,
   "metadata": {
    "collapsed": false
   },
   "outputs": [
    {
     "name": "stdout",
     "output_type": "stream",
     "text": [
      "157303\n",
      "0\n"
     ]
    }
   ],
   "source": [
    "print cat_train.isnull().values.sum()\n",
    "print filled_cat_train.isnull().values.sum()"
   ]
  },
  {
   "cell_type": "code",
   "execution_count": null,
   "metadata": {
    "collapsed": true
   },
   "outputs": [],
   "source": []
  },
  {
   "cell_type": "code",
   "execution_count": null,
   "metadata": {
    "collapsed": true
   },
   "outputs": [],
   "source": []
  },
  {
   "cell_type": "code",
   "execution_count": null,
   "metadata": {
    "collapsed": true
   },
   "outputs": [],
   "source": []
  },
  {
   "cell_type": "code",
   "execution_count": 3,
   "metadata": {
    "collapsed": false
   },
   "outputs": [
    {
     "name": "stdout",
     "output_type": "stream",
     "text": [
      "470 35\n",
      "1404\n"
     ]
    }
   ],
   "source": [
    "num_feat = train.dtypes[train.dtypes == 'float64'].index.values.tolist()\n",
    "cat_feat = train.dtypes[train.dtypes == 'object'].index.values.tolist()\n",
    "int_feat = train.dtypes[train.dtypes == 'int64'].index.values.tolist()\n",
    "print len(num_feat), len(cat_feat)\n",
    "print len(int_feat)"
   ]
  },
  {
   "cell_type": "code",
   "execution_count": 8,
   "metadata": {
    "collapsed": true
   },
   "outputs": [],
   "source": [
    "# A function that fills in missing values with most frequent value, median, or custom value.\n",
    "def feature_process(process_func='None', most_frequent_func=False, median_func=False, col_name=[]):\n",
    "    print 'processing features...'\n",
    "    for column in col_name:\n",
    "        print column\n",
    "        if median_func:\n",
    "            process_func = train[column].median()\n",
    "        if most_frequent_func:\n",
    "            process_func = train[column].value_counts().index.values[0]\n",
    "        train.loc[train[column].isnull(), column] = process_func"
   ]
  },
  {
   "cell_type": "code",
   "execution_count": null,
   "metadata": {
    "collapsed": true
   },
   "outputs": [],
   "source": []
  }
 ],
 "metadata": {
  "kernelspec": {
   "display_name": "Python 2",
   "language": "python",
   "name": "python2"
  },
  "language_info": {
   "codemirror_mode": {
    "name": "ipython",
    "version": 2
   },
   "file_extension": ".py",
   "mimetype": "text/x-python",
   "name": "python",
   "nbconvert_exporter": "python",
   "pygments_lexer": "ipython2",
   "version": "2.7.10"
  }
 },
 "nbformat": 4,
 "nbformat_minor": 2
}
